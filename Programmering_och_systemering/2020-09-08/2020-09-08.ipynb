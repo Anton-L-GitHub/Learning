{
 "cells": [
  {
   "cell_type": "code",
   "execution_count": null,
   "metadata": {},
   "outputs": [],
   "source": [
    "# 1.1\n",
    "tal = int(input('Ange ett tal: '))\n",
    "print(tal * str(tal))"
   ]
  },
  {
   "cell_type": "code",
   "execution_count": 5,
   "metadata": {},
   "outputs": [
    {
     "name": "stdout",
     "output_type": "stream",
     "text": [
      "Ange ett tal: 6\n",
      "666666\n"
     ]
    }
   ],
   "source": [
    "#1.2\n",
    "tal = int(input('Ange ett tal: '))\n",
    "\n",
    "for i in range(1, tal):\n",
    "    if tal <= 5:\n",
    "        print(str(i) * tal)\n",
    "else:\n",
    "    print(tal * str(tal))"
   ]
  },
  {
   "cell_type": "code",
   "execution_count": 4,
   "metadata": {},
   "outputs": [
    {
     "name": "stdout",
     "output_type": "stream",
     "text": [
      "1\n",
      "22\n",
      "333\n",
      "4444\n",
      "1\n",
      "22\n",
      "333\n",
      "4444\n",
      "55555\n",
      "666666\n"
     ]
    }
   ],
   "source": [
    "#1.2.2\n",
    "\n",
    "def roligt_med_tal(tal):\n",
    "    for i in range(1, tal):\n",
    "        if tal <= 5:\n",
    "            print(i * str(i))\n",
    "    else:\n",
    "       print(tal * str(tal))\n",
    "\n",
    "roligt_med_tal(4)\n",
    "roligt_med_tal(5)\n",
    "roligt_med_tal(6)"
   ]
  },
  {
   "cell_type": "code",
   "execution_count": null,
   "metadata": {},
   "outputs": [],
   "source": [
    "#1.3.2.1\n",
    "tal = int(input('Ange ett tal: '))\n",
    "print(f'{tal * str(tal)}')"
   ]
  },
  {
   "cell_type": "code",
   "execution_count": 3,
   "metadata": {},
   "outputs": [
    {
     "name": "stdout",
     "output_type": "stream",
     "text": [
      "Svar: 1\n",
      "Svar: 22\n",
      "Svar: 333\n",
      "Svar: 4444\n",
      "Svar: 1\n",
      "Svar: 22\n",
      "Svar: 333\n",
      "Svar: 4444\n",
      "Svar: 55555\n",
      "Svar: 666666\n"
     ]
    }
   ],
   "source": [
    "#2.2\n",
    "def roligt_med_tal(tal):\n",
    "    for i in range(1, tal):\n",
    "        if tal <= 5:\n",
    "            print(f'Svar: {i * str(i)}')\n",
    "    else:\n",
    "       print(f'Svar: {tal * str(tal)}')\n",
    "\n",
    "roligt_med_tal(4)\n",
    "roligt_med_tal(5)\n",
    "roligt_med_tal(6)"
   ]
  },
  {
   "cell_type": "code",
   "execution_count": null,
   "metadata": {},
   "outputs": [],
   "source": [
    "numbers = [1, 3, 3, 7]\n",
    "i = 0\n",
    "while i <= len(numbers):\n",
    "    a = numbers[i]\n",
    "    b = numbers[i+1]\n",
    "    switch_done = False\n",
    "    if a > b:\n",
    "        a, b = b, a\n",
    "        numbers[a], numbers[b] = numbers[b], numbers[a]\n",
    "        switch_done = True\n",
    "    elif i == len(numbers):\n",
    "        if switch_done:\n",
    "            i -= 2\n",
    "            continue\n",
    "        else:\n",
    "            break\n",
    "print(numbers)"
   ]
  },
  {
   "cell_type": "code",
   "execution_count": 7,
   "metadata": {},
   "outputs": [
    {
     "name": "stdout",
     "output_type": "stream",
     "text": [
      "[1, 2, 3, 4, 5, 5, 9]\n"
     ]
    }
   ],
   "source": [
    "def list_sorting(unsorted_list):\n",
    "    p = unsorted_list[0]\n",
    "    smaller = []\n",
    "    larger = []\n",
    "    for num in unsorted_list[1:]:\n",
    "        if num <= p:\n",
    "            smaller.append(num)\n",
    "        else:\n",
    "            larger.append(num)\n",
    "    if len(smaller) >= 1:\n",
    "        smaller.sort()\n",
    "    if len(larger) >= 1:\n",
    "        larger.sort()\n",
    "    sorted_list = smaller, [p], larger\n",
    "    sorted_list = sum(sorted_list, [])\n",
    "    return sorted_list\n",
    "\n",
    "print(list_sorting([2, 5, 1, 3, 4, 5, 9]))"
   ]
  },
  {
   "cell_type": "code",
   "execution_count": null,
   "metadata": {},
   "outputs": [],
   "source": []
  }
 ],
 "metadata": {
  "kernelspec": {
   "display_name": "Python 3",
   "language": "python",
   "name": "python3"
  },
  "language_info": {
   "codemirror_mode": {
    "name": "ipython",
    "version": 3
   },
   "file_extension": ".py",
   "mimetype": "text/x-python",
   "name": "python",
   "nbconvert_exporter": "python",
   "pygments_lexer": "ipython3",
   "version": "3.8.3"
  }
 },
 "nbformat": 4,
 "nbformat_minor": 4
}
